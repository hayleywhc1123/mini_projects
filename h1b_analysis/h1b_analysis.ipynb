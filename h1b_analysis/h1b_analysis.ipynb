{
 "cells": [
  {
   "cell_type": "code",
   "execution_count": 1,
   "metadata": {},
   "outputs": [],
   "source": [
    "import pandas as pd\n",
    "import matplotlib.pyplot as plt\n",
    "import numpy as np"
   ]
  },
  {
   "cell_type": "markdown",
   "metadata": {},
   "source": [
    "# Load Data"
   ]
  },
  {
   "cell_type": "code",
   "execution_count": null,
   "metadata": {},
   "outputs": [],
   "source": [
    "df=pd.read_csv('./H-1B_Disclosure_Data_FY2019.csv')\n",
    "df=df[df.VISA_CLASS=='H-1B']"
   ]
  },
  {
   "cell_type": "markdown",
   "metadata": {},
   "source": [
    "# Data Cleaning"
   ]
  },
  {
   "cell_type": "code",
   "execution_count": null,
   "metadata": {},
   "outputs": [],
   "source": [
    "state_list=list(df.EMPLOYER_STATE.unique())\n",
    "state_list.remove(np.nan)\n",
    "df['JOB_TITLE']=[i[:-1] if str(i)[-1]=='.' else i for i in df['JOB_TITLE']]\n",
    "df['EMPLOYER_NAME']=[i[:-1] if str(i)[-1]=='.' else i for i in df['EMPLOYER_NAME']]\n",
    "df['EMPLOYER_NAME']=[i[:i.index('  ')]+i[i.index('  ')+1:] if '  ' in str(i) else i for i in df['EMPLOYER_NAME']]"
   ]
  },
  {
   "cell_type": "markdown",
   "metadata": {},
   "source": [
    "# Filter Job Title "
   ]
  },
  {
   "cell_type": "code",
   "execution_count": null,
   "metadata": {},
   "outputs": [],
   "source": [
    "df_=df['JOB_TITLE'].unique()\n",
    "data_job_title=[i for i in df_ if 'MACHINE LEARNING'  in str(i) ]\n",
    "data_job_title+=[i for i in df_ if 'DATA'  in str(i) ]\n",
    "data_job_title+=[i for i in df_ if 'RESEARCH SCIENTIST'  in str(i) ]\n",
    "data_job_title+=[i for i in df_ if 'APPLIED SCIENTIST'  in str(i) ]\n",
    "data_job_title+=[i for i in df_ if 'SQL'  in str(i) ]\n",
    "data_job_title=list(set(data_job_title))"
   ]
  },
  {
   "cell_type": "markdown",
   "metadata": {},
   "source": [
    "# Data for Visualization"
   ]
  },
  {
   "cell_type": "code",
   "execution_count": null,
   "metadata": {},
   "outputs": [],
   "source": [
    "#------\n",
    "\n",
    "data_geo=df[df.JOB_TITLE.isin(data_job_title)].groupby('EMPLOYER_STATE')['CASE_NUMBER'].count().sort_values(ascending=False).to_frame()\n",
    "data_geo.to_csv('./data_geo.csv')\n",
    "\n",
    "#-------\n",
    "data_company=df[df.JOB_TITLE.isin(data_job_title)].groupby('EMPLOYER_NAME')['CASE_NUMBER'].count().sort_values(ascending=False).to_frame()\n",
    "data_company=data_company[data_company.CASE_NUMBER>=20].reset_index()\n",
    "data_company.loc[51,'EMPLOYER_NAME']='FACEBOOK, INC'\n",
    "data_company=data_company.groupby('EMPLOYER_NAME')['CASE_NUMBER'].sum().sort_values(ascending=False).to_frame()\n",
    "data_company.to_csv('./data_company.csv')\n",
    "\n",
    "#-------\n",
    "data_comp=df[(df.EMPLOYER_STATE=='WA') & (df.JOB_TITLE.isin(data_job_title))].groupby('EMPLOYER_NAME')['CASE_NUMBER'].count().sort_values(ascending=False).reset_index()\n",
    "data_comp_wa=pd.merge(data_comp,df[['EMPLOYER_CITY','EMPLOYER_STATE','EMPLOYER_NAME']].drop_duplicates(),on=['EMPLOYER_NAME'],how='left')\n",
    "data_comp.to_csv('./data_wa.csv')\n"
   ]
  }
 ],
 "metadata": {
  "kernelspec": {
   "display_name": "Python 3",
   "language": "python",
   "name": "python3"
  },
  "language_info": {
   "codemirror_mode": {
    "name": "ipython",
    "version": 3
   },
   "file_extension": ".py",
   "mimetype": "text/x-python",
   "name": "python",
   "nbconvert_exporter": "python",
   "pygments_lexer": "ipython3",
   "version": "3.7.3"
  },
  "toc": {
   "base_numbering": 1,
   "nav_menu": {},
   "number_sections": true,
   "sideBar": true,
   "skip_h1_title": false,
   "title_cell": "Table of Contents",
   "title_sidebar": "Contents",
   "toc_cell": false,
   "toc_position": {},
   "toc_section_display": true,
   "toc_window_display": true
  }
 },
 "nbformat": 4,
 "nbformat_minor": 2
}
